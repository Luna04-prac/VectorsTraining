{
 "cells": [
  {
   "cell_type": "markdown",
   "id": "7b556b8b-f68d-4bf2-b036-84b0231bcf24",
   "metadata": {},
   "source": [
    "# **VECTORES**\n",
    "### <span style=\"color:red\">**Vector y sistemas de coordenadas.**</span>  \n",
    " \n"
   ]
  },
  {
   "cell_type": "markdown",
   "id": "917a20fa-9bbe-4a7b-b414-e71ffbfc5160",
   "metadata": {},
   "source": [
    "#### **Qué son:**\n",
    "##### Un vector es una magnitud que tiene módulo (tamaño), dirección y sentido. ***Ejemplo:** la velocidad de un carro (90 km/h hacia el norte)*. **Se diferencian de los escalares, que solo tienen módulo (ejemplo: temperatura, masa, tiempo).**\n",
    "\n",
    "#### **Para qué sirven:**\n",
    "##### Se usan en cualquier fenómeno físico que involucre dirección: desplazamiento, velocidad, aceleración, fuerza, campo eléctrico, campo magnético, etc.\n",
    "\n",
    "#### **Sistemas de coordenadas:**\n",
    "##### - El más usado es el **cartesiano** (x, y, z), donde un vector se expresa como:\n",
    "\n",
    "$$\n",
    "\\vec{A} = (A_x, A_y, A_z)\n",
    "$$\n",
    "\n",
    "##### - También se usan **cilíndricas (r, θ, z)** y **esféricas (r, θ, φ)** cuando el problema tiene simetría circular o esférica (ejemplo: campos eléctricos alrededor de una carga puntual).\n",
    "\n",
    "#### **Por qué:**\n",
    "##### Cambiar de sistema de coordenadas simplifica los cálculos. Por ejemplo, no es lo mismo calcular el campo eléctrico de un electrón en coordenadas cartesianas (muy complicado) que en esféricas (simple, porque el campo depende solo de la distancia radial).\n",
    "___"
   ]
  },
  {
   "cell_type": "markdown",
   "id": "fc0038f4-35fa-480d-8f8c-a5b673fb8dc0",
   "metadata": {},
   "source": [
    "### <span style=\"color:red\">**Vector y sistemas de coordenadas.**</span>\n",
    "\n",
    "#### **Qué son:**\n",
    "##### Son vectores de módulo 1 que indican solo dirección.\n",
    "##### ***Ejemplo en coordenadas cartesianas:***\n",
    "$$\n",
    "\\hat{i} = (1,0,0), \\quad \\hat{j} = (0,1,0), \\quad \\hat{k} = (0,0,1)\n",
    "$$\n",
    "\n",
    "#### **Para qué sirven:**\n",
    "##### Permiten construir cualquier vector.\n",
    "##### Ejemplo:\n",
    "\n",
    "$$\n",
    "\\vec{A} = A_x \\hat{i} + A_y \\hat{j} + A_z \\hat{k}\n",
    "$$\n",
    "\n",
    "#### **Por qué:**\n",
    "##### Facilitan descomponer un vector en componentes. Esto es esencial porque la física trabaja mucho con componentes (ejemplo: separar el peso en un plano inclinado en su parte paralela y perpendicular).\n",
    "___"
   ]
  },
  {
   "cell_type": "markdown",
   "id": "20aa5697-911f-4468-91ad-8fda58e0ed3c",
   "metadata": {},
   "source": [
    "\n",
    "### <span style=\"color:red\">**Igualdad de vectores.**</span>\n",
    "\n",
    "#### **Qué significa:**\n",
    "##### Dos vectores son iguales si tienen el mismo módulo, dirección y sentido.\n",
    "##### Ejemplo: una fuerza de _10N_ hacia la derecha aplicada en Cartagena o en Bogotá sigue siendo el mismo vector.\n",
    "\n",
    "### **Para qué sirve:**\n",
    "#### Esto nos ayuda a comparar fenómenos. Si dos vectores son iguales, representan la misma acción física (independientemente de dónde se encuentren).\n",
    "\n",
    "##### _Es decir que la igual de vectores se da cuando dos o mams vectores tienen las mismas componentes y caracteristicas. En un plano sin importar la dimension es posible que sea complejo verlos a simple vista sin embargo sus coordenadas cartesianas permiten identificarlas_"
   ]
  },
  {
   "cell_type": "markdown",
   "id": "0038f37b-1c4b-41c2-84fd-b3f2f2a43e32",
   "metadata": {},
   "source": [
    "### <span style=\"color:red\">**Operaciones con vectores.**</span>\n",
    "\n",
    "#### **Suma y resta:**\n",
    "\n",
    "##### **Método gráfico:** regla del paralelogramo o del triángulo. Método analítico: se suman las componentes:\n",
    "\n",
    "$$\n",
    "\\vec{R} = (A_x + B_x)\\hat{i} + (A_y + B_y)\\hat{j} + (A_z + B_z)\\hat{k}\n",
    "$$\n",
    "\n",
    "#### **Multiplicación por un escalar:**\n",
    "##### Cambia el módulo, pero no la dirección (si el escalar es positivo).\n",
    "##### ***Ejemplo: duplicar la velocidad de un carro.***\n",
    "\n",
    "#### **Por qué:**\n",
    "##### La suma de fuerzas, campos eléctricos, velocidades, etc., siempre requiere sumar vectores. No se pueden sumar como simples números porque cada uno puede tener distinta dirección.\n",
    "___"
   ]
  },
  {
   "cell_type": "markdown",
   "id": "d6551377-47be-487d-b4c5-dd323ff88ba4",
   "metadata": {},
   "source": [
    "### <span style=\"color:red\">**Producto Escalar / Producto Punto.**</span>\n",
    "#### **Definición:**\n",
    "\n",
    "$$\n",
    "\\vec{A} \\cdot \\vec{B} = |\\vec{A}|\\,|\\vec{B}| \\cos\\theta\n",
    "$$\n",
    "\n",
    "#### Resultado: **un escalar.**\n",
    "#### Ejemplo: trabajo mecánico:\n",
    "\n",
    "$$\n",
    "W = \\vec{F} \\cdot \\vec{d} = Fd \\cos\\theta\n",
    "$$\n",
    "\n",
    "#### **Para qué sirve:**\n",
    "##### Sirve cuando queremos la **proyección de un vector sobre otro.** Ejemplo: solo la parte de la fuerza en la dirección del desplazamiento produce trabajo.\n",
    "\n",
    "#### **Por qué:**\n",
    "##### Muchas veces no interesa toda la magnitud de un vector, sino cuánto actúa en una dirección específica.\n",
    "___"
   ]
  },
  {
   "cell_type": "markdown",
   "id": "736a7ee1-2546-48d3-8e8b-5db94bc020e3",
   "metadata": {},
   "source": [
    "### <span style=\"color:red\">**Producto Vectorial / Producto Cruz**</span>\n",
    "\n",
    "#### **Definición:**\n",
    "$$\n",
    "\\vec{A} \\times \\vec{B} = |\\vec{A}|\\,|\\vec{B}| \\sin\\theta \\, \\hat{n}\n",
    "$$\n",
    "\n",
    "Donde $\\hat{n}$ es un vector unitario perpendicular al plano de A y B (regla de la mano derecha).\n",
    "\n",
    "Resultado: un vector.\n",
    "\n",
    "#### **Ejemplo físico:**\n",
    "##### El momento de una fuerza:"
   ]
  },
  {
   "cell_type": "code",
   "execution_count": null,
   "id": "940fea82-9e26-4d36-b569-c186e80c385e",
   "metadata": {},
   "outputs": [],
   "source": []
  }
 ],
 "metadata": {
  "kernelspec": {
   "display_name": "Python 3 (ipykernel)",
   "language": "python",
   "name": "python3"
  },
  "language_info": {
   "codemirror_mode": {
    "name": "ipython",
    "version": 3
   },
   "file_extension": ".py",
   "mimetype": "text/x-python",
   "name": "python",
   "nbconvert_exporter": "python",
   "pygments_lexer": "ipython3",
   "version": "3.13.5"
  }
 },
 "nbformat": 4,
 "nbformat_minor": 5
}
