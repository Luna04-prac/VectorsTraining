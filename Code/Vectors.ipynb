{
 "cells": [
  {
   "cell_type": "markdown",
   "id": "8c528f9a-f5a9-4fdc-80bd-bfbcc13d60f0",
   "metadata": {},
   "source": [
    "## Vectores"
   ]
  },
  {
   "cell_type": "markdown",
   "id": "92cabaf0-5342-47ef-83c1-62b96ce9cde4",
   "metadata": {},
   "source": [
    "### <span style=\"color:red\">**Vector y sistemas de coordenadas.**</span>"
   ]
  },
  {
   "cell_type": "markdown",
   "id": "2bb7ae86-ba32-404a-abcf-add5a1ce17d3",
   "metadata": {},
   "source": [
    "**Enunciado del Problema: La Travesía de un Barco**\n",
    "\n",
    "Un barco parte de un puerto, que consideraremos el origen de coordenadas `(0, 0)`. Durante su travesía, realiza tres desplazamientos consecutivos guiados por su capitán:\n",
    "- Navega `70 km` en la dirección Norte `30°` Este (es decir, `30°` al este del norte).\n",
    "- Luego, navega `50 km` directamente hacia el Este.\n",
    "- Finalmente, navega `40 km` en la dirección Sur `60°` Este (es decir, `60°` al este del sur).\n",
    "\n",
    "Se pide:\n",
    "- Expresar cada uno de los tres desplazamientos como vectores en su forma de componentes `(x, y)`.\n",
    "- Calcular el vector desplazamiento total (la suma de los tres vectores).\n",
    "- Encontrar la distancia final desde el puerto de partida y el rumbo (el ángulo medido desde el Este positivo hacia la posición final).\n",
    "\n",
    "Utilice el sistema de coordenadas donde el eje X positivo representa el Este y el eje Y positivo representa el Norte."
   ]
  },
  {
   "cell_type": "markdown",
   "id": "92e651e2-5ad1-46db-ba30-a8253d4cd9d8",
   "metadata": {},
   "source": [
    "### **Resolución**\n",
    "#### **Paso 1: Descomponer cada desplazamiento en componentes (x, y)**\n",
    "\n",
    "**Desplazamiento 1 (d₁): 70 km, Norte 30° Este**\n",
    "*   El ángulo se mide desde el Norte hacia el Este. Para usar funciones trigonométricas estándar (ángulo desde el Este), el ángulo es θ = 90° - 30° = **60°**.\n",
    "*   Componente X (Este): `70 * cos(60°) = 70 * 0.5 = 35.0 km`\n",
    "*   Componente Y (Norte): `70 * sin(60°) = 70 * (√3/2) ≈ 70 * 0.866 = 60.6 km`\n",
    "    `d₁ = (35.0 km, 60.6 km)`"
   ]
  },
  {
   "cell_type": "code",
   "execution_count": 14,
   "id": "37b8bc4f-7c6a-492b-a4c7-160d2d1872b9",
   "metadata": {},
   "outputs": [
    {
     "name": "stdout",
     "output_type": "stream",
     "text": [
      "Angulo [RAD]: 1.0471975511965976\n",
      "(35.0 , 60.6)\n"
     ]
    }
   ],
   "source": [
    "import math\n",
    "\n",
    "# El ángulo de 60° (90° - 30°) pero convertido a radianes\n",
    "angle_degrees = 90 - 30  # 60 grados\n",
    "angle_radians = math.radians(angle_degrees)\n",
    "print(f'Angulo [RAD]: {angle_radians}')\n",
    "# Para el componente Este (X): usamos coseno\n",
    "vectors = [{'magnitud': 70.0, 'sense': 'East', 'direction': angle_radians},\n",
    "           {'magnitud': 70.0, 'sense': 'North', 'direction': angle_radians}]\n",
    "\n",
    "def vectorial_displacement(vector: dict):\n",
    "    if vector['sense'] == 'East':\n",
    "        return vector['magnitud'] * math.cos(vector['direction'])\n",
    "    elif vector['sense'] == 'North':\n",
    "        return vector['magnitud'] * math.sin(vector['direction'])\n",
    "    else:\n",
    "        return 0\n",
    "\n",
    "# Resultados\n",
    "print(f\"({vectorial_displacement(vectors[0]):.1f} , {vectorial_displacement(vectors[1]):.1f})\")"
   ]
  },
  {
   "cell_type": "markdown",
   "id": "c5a93530-24b6-48ee-ad5f-1352f3219a4b",
   "metadata": {},
   "source": [
    "**Desplazamiento 2 (d₂): 50 km, Este**\n",
    "*   Componente X (Este): `50 km`\n",
    "*   Componente Y (Norte): `0 km`\n",
    "    `d₂ = (50.0 km, 0 km)`"
   ]
  },
  {
   "cell_type": "code",
   "execution_count": null,
   "id": "a53d9d21-7a90-40b0-a244-287ead446248",
   "metadata": {},
   "outputs": [],
   "source": []
  },
  {
   "cell_type": "markdown",
   "id": "b7e22e6f-4525-4863-962e-f5332c7deca4",
   "metadata": {},
   "source": [
    "**Desplazamiento 3 (d₃): 40 km, Sur 60° Este**\n",
    "*   El ángulo se mide desde el Sur hacia el Este. Su componente Y será negativa (Sur). El ángulo desde el Este positivo es θ = 360° - 60° = **300°**.\n",
    "*   Componente X (Este): `40 * cos(60°) = 40 * 0.5 = 20.0 km`\n",
    "*   Componente Y (Norte): `40 * sin(300°) = 40 * (-sin(60°)) = 40 * (-√3/2) ≈ 40 * (-0.866) = -34.6 km`\n",
    "    `d₃ = (20.0 km, -34.6 km)`\n",
    "\n",
    "#### **Paso 2: Calcular el vector desplazamiento total (D)**\n",
    "\n",
    "El vector total es la suma de los componentes de cada vector:\n",
    "`D = d₁ + d₂ + d₃`\n",
    "\n",
    "*   Componente X total: `Dₓ = 35.0 + 50.0 + 20.0 = 105.0 km`\n",
    "*   Componente Y total: `Dᵧ = 60.6 + 0 - 34.6 = 26.0 km`\n",
    "\n",
    "`D = (105.0 km, 26.0 km)`\n",
    "\n",
    "#### **Paso 3: Encontrar la distancia y el rumbo finales**\n",
    "\n",
    "**a) Distancia final (módulo del vector D):**\n",
    "La distancia desde el puerto es la magnitud del vector desplazamiento total.\n",
    "`|D| = √(Dₓ² + Dᵧ²) = √(105.0² + 26.0²) = √(11025 + 676) = √11701 ≈ 108.2 km`\n",
    "\n",
    "**b) Rumbo (ángulo θ):**\n",
    "El rumbo es el ángulo que forma el vector con la dirección Este positivo (eje X).\n",
    "`tan(θ) = (Componente Y) / (Componente X) = Dᵧ / Dₓ = 26.0 / 105.0 ≈ 0.2476`\n",
    "`θ = arctan(0.2476) ≈ 13.9°`\n",
    "\n",
    "Como ambas componentes (X e Y) son positivas, el vector se encuentra en el primer cuadrante. El rumbo es **13.9° al Norte del Este**, que se expresa comúnmente como **Norte 76.1° Este** (ya que 90° - 13.9° = 76.1°).\n",
    "\n",
    "---\n",
    "\n",
    "### **Respuesta Final**\n",
    "\n",
    "a) Los vectores de desplazamiento son:\n",
    "   *   `d₁ = (35.0 km, 60.6 km)`\n",
    "   *   `d₂ = (50.0 km, 0 km)`\n",
    "   *   `d₃ = (20.0 km, -34.6 km)`\n",
    "\n",
    "b) El vector desplazamiento total es:\n",
    "   *   `D = (105.0 km, 26.0 km)`\n",
    "\n",
    "c) El barco se encuentra a **108.2 km** del puerto de partida, con un rumbo de **Norte 76.1° Este** (o, equivalentemente, **13.9° al Norte del Este**)."
   ]
  },
  {
   "cell_type": "code",
   "execution_count": null,
   "id": "928d637d-0083-4cae-bf39-80a9894a1c48",
   "metadata": {},
   "outputs": [],
   "source": []
  }
 ],
 "metadata": {
  "kernelspec": {
   "display_name": "Python 3 (ipykernel)",
   "language": "python",
   "name": "python3"
  },
  "language_info": {
   "codemirror_mode": {
    "name": "ipython",
    "version": 3
   },
   "file_extension": ".py",
   "mimetype": "text/x-python",
   "name": "python",
   "nbconvert_exporter": "python",
   "pygments_lexer": "ipython3",
   "version": "3.13.5"
  }
 },
 "nbformat": 4,
 "nbformat_minor": 5
}
